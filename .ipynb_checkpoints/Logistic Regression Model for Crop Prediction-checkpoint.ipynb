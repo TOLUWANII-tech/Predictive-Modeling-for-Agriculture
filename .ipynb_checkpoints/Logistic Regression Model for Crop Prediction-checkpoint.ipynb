{
 "cells": [
  {
   "cell_type": "code",
   "execution_count": 1,
   "id": "f7a1e4a8",
   "metadata": {},
   "outputs": [],
   "source": [
    "import pandas as pd\n",
    "import seaborn as sns\n",
    "import numpy as np\n",
    "from sklearn.linear_model import LogisticRegression\n",
    "from sklearn.model_selection import train_test_split\n",
    "from sklearn.metrics import f1_score"
   ]
  },
  {
   "cell_type": "code",
   "execution_count": 2,
   "id": "6a00dee4",
   "metadata": {},
   "outputs": [
    {
     "name": "stdout",
     "output_type": "stream",
     "text": [
      "<class 'pandas.core.frame.DataFrame'>\n",
      "RangeIndex: 2200 entries, 0 to 2199\n",
      "Data columns (total 5 columns):\n",
      " #   Column  Non-Null Count  Dtype  \n",
      "---  ------  --------------  -----  \n",
      " 0   N       2200 non-null   int64  \n",
      " 1   P       2200 non-null   int64  \n",
      " 2   K       2200 non-null   int64  \n",
      " 3   ph      2200 non-null   float64\n",
      " 4   crop    2200 non-null   object \n",
      "dtypes: float64(1), int64(3), object(1)\n",
      "memory usage: 86.1+ KB\n",
      "None\n",
      "(2200, 5)\n",
      "        N   P   K        ph    crop\n",
      "0      90  42  43  6.502985    rice\n",
      "1      85  58  41  7.038096    rice\n",
      "2      60  55  44  7.840207    rice\n",
      "3      74  35  40  6.980401    rice\n",
      "4      78  42  42  7.628473    rice\n",
      "...   ...  ..  ..       ...     ...\n",
      "2195  107  34  32  6.780064  coffee\n",
      "2196   99  15  27  6.086922  coffee\n",
      "2197  118  33  30  6.362608  coffee\n",
      "2198  117  32  34  6.758793  coffee\n",
      "2199  104  18  30  6.779833  coffee\n",
      "\n",
      "[2200 rows x 5 columns]\n"
     ]
    }
   ],
   "source": [
    "crops_df = pd.read_csv('soil_measures.csv')\n",
    "\n",
    "print(crops_df.info())\n",
    "print(crops_df.shape)\n",
    "print(crops_df)"
   ]
  },
  {
   "cell_type": "code",
   "execution_count": 13,
   "id": "5cbac574",
   "metadata": {},
   "outputs": [],
   "source": [
    "X = crops_df.drop('crop',axis=1)#.values\n",
    "y = crops_df.crop#.values\n",
    "\n",
    "X_train, X_test, y_train, y_test = train_test_split(X,y, test_size=0.2, random_state = 42, stratify=y)\n"
   ]
  },
  {
   "cell_type": "code",
   "execution_count": null,
   "id": "b0992118",
   "metadata": {},
   "outputs": [],
   "source": [
    "logreg = LogisticRegression(max_iter=2000, multi_class='multinomial', solver = 'lbfgs', random_state = 42)\n",
    "\n",
    "\n",
    "sing_feat_model_score = {}\n",
    "for feature in crops_df.columns:\n",
    "    if feature!='crop':\n",
    "        logreg.fit(X_train[[feature]],  y_train)\n",
    "        sing_feat_predictions = logreg.predict(X_test)\n",
    "        sing_feat_f1_score = f1_score(y_test, sing_feat_predictions)"
   ]
  }
 ],
 "metadata": {
  "kernelspec": {
   "display_name": "Python 3 (ipykernel)",
   "language": "python",
   "name": "python3"
  },
  "language_info": {
   "codemirror_mode": {
    "name": "ipython",
    "version": 3
   },
   "file_extension": ".py",
   "mimetype": "text/x-python",
   "name": "python",
   "nbconvert_exporter": "python",
   "pygments_lexer": "ipython3",
   "version": "3.11.4"
  }
 },
 "nbformat": 4,
 "nbformat_minor": 5
}
